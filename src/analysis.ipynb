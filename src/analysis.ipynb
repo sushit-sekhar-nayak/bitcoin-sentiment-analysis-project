{
 "cells": [
  {
   "cell_type": "markdown",
   "id": "09c6938d-b0bb-4047-850b-a50699cf08e7",
   "metadata": {},
   "source": [
    "## Importing Required Libraries"
   ]
  },
  {
   "cell_type": "code",
   "execution_count": 1,
   "id": "c93a0d59-320a-4930-97b0-bbe5c35e8b63",
   "metadata": {},
   "outputs": [],
   "source": [
    "import pandas as pd\n",
    "import matplotlib.pyplot as plt\n",
    "import seaborn as sns\n",
    "\n",
    "sns.set(style=\"whitegrid\")"
   ]
  },
  {
   "cell_type": "markdown",
   "id": "0d5d41da-3aa6-42d7-a8d2-a15456aaa3dd",
   "metadata": {},
   "source": [
    "## Loading Both Datasets"
   ]
  },
  {
   "cell_type": "code",
   "execution_count": 4,
   "id": "18a04266-13d4-46d8-8110-5f82389a89f6",
   "metadata": {},
   "outputs": [
    {
     "name": "stdout",
     "output_type": "stream",
     "text": [
      "Fear & Greed Index:\n"
     ]
    },
    {
     "data": {
      "text/html": [
       "<div>\n",
       "<style scoped>\n",
       "    .dataframe tbody tr th:only-of-type {\n",
       "        vertical-align: middle;\n",
       "    }\n",
       "\n",
       "    .dataframe tbody tr th {\n",
       "        vertical-align: top;\n",
       "    }\n",
       "\n",
       "    .dataframe thead th {\n",
       "        text-align: right;\n",
       "    }\n",
       "</style>\n",
       "<table border=\"1\" class=\"dataframe\">\n",
       "  <thead>\n",
       "    <tr style=\"text-align: right;\">\n",
       "      <th></th>\n",
       "      <th>timestamp</th>\n",
       "      <th>value</th>\n",
       "      <th>classification</th>\n",
       "      <th>date</th>\n",
       "    </tr>\n",
       "  </thead>\n",
       "  <tbody>\n",
       "    <tr>\n",
       "      <th>0</th>\n",
       "      <td>1517463000</td>\n",
       "      <td>30</td>\n",
       "      <td>Fear</td>\n",
       "      <td>2018-02-01</td>\n",
       "    </tr>\n",
       "    <tr>\n",
       "      <th>1</th>\n",
       "      <td>1517549400</td>\n",
       "      <td>15</td>\n",
       "      <td>Extreme Fear</td>\n",
       "      <td>2018-02-02</td>\n",
       "    </tr>\n",
       "    <tr>\n",
       "      <th>2</th>\n",
       "      <td>1517635800</td>\n",
       "      <td>40</td>\n",
       "      <td>Fear</td>\n",
       "      <td>2018-02-03</td>\n",
       "    </tr>\n",
       "    <tr>\n",
       "      <th>3</th>\n",
       "      <td>1517722200</td>\n",
       "      <td>24</td>\n",
       "      <td>Extreme Fear</td>\n",
       "      <td>2018-02-04</td>\n",
       "    </tr>\n",
       "    <tr>\n",
       "      <th>4</th>\n",
       "      <td>1517808600</td>\n",
       "      <td>11</td>\n",
       "      <td>Extreme Fear</td>\n",
       "      <td>2018-02-05</td>\n",
       "    </tr>\n",
       "  </tbody>\n",
       "</table>\n",
       "</div>"
      ],
      "text/plain": [
       "    timestamp  value classification        date\n",
       "0  1517463000     30           Fear  2018-02-01\n",
       "1  1517549400     15   Extreme Fear  2018-02-02\n",
       "2  1517635800     40           Fear  2018-02-03\n",
       "3  1517722200     24   Extreme Fear  2018-02-04\n",
       "4  1517808600     11   Extreme Fear  2018-02-05"
      ]
     },
     "metadata": {},
     "output_type": "display_data"
    },
    {
     "name": "stdout",
     "output_type": "stream",
     "text": [
      "\n",
      "Historical Trader Data:\n"
     ]
    },
    {
     "data": {
      "text/html": [
       "<div>\n",
       "<style scoped>\n",
       "    .dataframe tbody tr th:only-of-type {\n",
       "        vertical-align: middle;\n",
       "    }\n",
       "\n",
       "    .dataframe tbody tr th {\n",
       "        vertical-align: top;\n",
       "    }\n",
       "\n",
       "    .dataframe thead th {\n",
       "        text-align: right;\n",
       "    }\n",
       "</style>\n",
       "<table border=\"1\" class=\"dataframe\">\n",
       "  <thead>\n",
       "    <tr style=\"text-align: right;\">\n",
       "      <th></th>\n",
       "      <th>Account</th>\n",
       "      <th>Coin</th>\n",
       "      <th>Execution Price</th>\n",
       "      <th>Size Tokens</th>\n",
       "      <th>Size USD</th>\n",
       "      <th>Side</th>\n",
       "      <th>Timestamp IST</th>\n",
       "      <th>Start Position</th>\n",
       "      <th>Direction</th>\n",
       "      <th>Closed PnL</th>\n",
       "      <th>Transaction Hash</th>\n",
       "      <th>Order ID</th>\n",
       "      <th>Crossed</th>\n",
       "      <th>Fee</th>\n",
       "      <th>Trade ID</th>\n",
       "      <th>Timestamp</th>\n",
       "    </tr>\n",
       "  </thead>\n",
       "  <tbody>\n",
       "    <tr>\n",
       "      <th>0</th>\n",
       "      <td>0xae5eacaf9c6b9111fd53034a602c192a04e082ed</td>\n",
       "      <td>@107</td>\n",
       "      <td>7.9769</td>\n",
       "      <td>986.87</td>\n",
       "      <td>7872.16</td>\n",
       "      <td>BUY</td>\n",
       "      <td>02-12-2024 22:50</td>\n",
       "      <td>0.000000</td>\n",
       "      <td>Buy</td>\n",
       "      <td>0.0</td>\n",
       "      <td>0xec09451986a1874e3a980418412fcd0201f500c95bac...</td>\n",
       "      <td>52017706630</td>\n",
       "      <td>True</td>\n",
       "      <td>0.345404</td>\n",
       "      <td>8.950000e+14</td>\n",
       "      <td>1.730000e+12</td>\n",
       "    </tr>\n",
       "    <tr>\n",
       "      <th>1</th>\n",
       "      <td>0xae5eacaf9c6b9111fd53034a602c192a04e082ed</td>\n",
       "      <td>@107</td>\n",
       "      <td>7.9800</td>\n",
       "      <td>16.00</td>\n",
       "      <td>127.68</td>\n",
       "      <td>BUY</td>\n",
       "      <td>02-12-2024 22:50</td>\n",
       "      <td>986.524596</td>\n",
       "      <td>Buy</td>\n",
       "      <td>0.0</td>\n",
       "      <td>0xec09451986a1874e3a980418412fcd0201f500c95bac...</td>\n",
       "      <td>52017706630</td>\n",
       "      <td>True</td>\n",
       "      <td>0.005600</td>\n",
       "      <td>4.430000e+14</td>\n",
       "      <td>1.730000e+12</td>\n",
       "    </tr>\n",
       "    <tr>\n",
       "      <th>2</th>\n",
       "      <td>0xae5eacaf9c6b9111fd53034a602c192a04e082ed</td>\n",
       "      <td>@107</td>\n",
       "      <td>7.9855</td>\n",
       "      <td>144.09</td>\n",
       "      <td>1150.63</td>\n",
       "      <td>BUY</td>\n",
       "      <td>02-12-2024 22:50</td>\n",
       "      <td>1002.518996</td>\n",
       "      <td>Buy</td>\n",
       "      <td>0.0</td>\n",
       "      <td>0xec09451986a1874e3a980418412fcd0201f500c95bac...</td>\n",
       "      <td>52017706630</td>\n",
       "      <td>True</td>\n",
       "      <td>0.050431</td>\n",
       "      <td>6.600000e+14</td>\n",
       "      <td>1.730000e+12</td>\n",
       "    </tr>\n",
       "    <tr>\n",
       "      <th>3</th>\n",
       "      <td>0xae5eacaf9c6b9111fd53034a602c192a04e082ed</td>\n",
       "      <td>@107</td>\n",
       "      <td>7.9874</td>\n",
       "      <td>142.98</td>\n",
       "      <td>1142.04</td>\n",
       "      <td>BUY</td>\n",
       "      <td>02-12-2024 22:50</td>\n",
       "      <td>1146.558564</td>\n",
       "      <td>Buy</td>\n",
       "      <td>0.0</td>\n",
       "      <td>0xec09451986a1874e3a980418412fcd0201f500c95bac...</td>\n",
       "      <td>52017706630</td>\n",
       "      <td>True</td>\n",
       "      <td>0.050043</td>\n",
       "      <td>1.080000e+15</td>\n",
       "      <td>1.730000e+12</td>\n",
       "    </tr>\n",
       "    <tr>\n",
       "      <th>4</th>\n",
       "      <td>0xae5eacaf9c6b9111fd53034a602c192a04e082ed</td>\n",
       "      <td>@107</td>\n",
       "      <td>7.9894</td>\n",
       "      <td>8.73</td>\n",
       "      <td>69.75</td>\n",
       "      <td>BUY</td>\n",
       "      <td>02-12-2024 22:50</td>\n",
       "      <td>1289.488521</td>\n",
       "      <td>Buy</td>\n",
       "      <td>0.0</td>\n",
       "      <td>0xec09451986a1874e3a980418412fcd0201f500c95bac...</td>\n",
       "      <td>52017706630</td>\n",
       "      <td>True</td>\n",
       "      <td>0.003055</td>\n",
       "      <td>1.050000e+15</td>\n",
       "      <td>1.730000e+12</td>\n",
       "    </tr>\n",
       "  </tbody>\n",
       "</table>\n",
       "</div>"
      ],
      "text/plain": [
       "                                      Account  Coin  Execution Price  \\\n",
       "0  0xae5eacaf9c6b9111fd53034a602c192a04e082ed  @107           7.9769   \n",
       "1  0xae5eacaf9c6b9111fd53034a602c192a04e082ed  @107           7.9800   \n",
       "2  0xae5eacaf9c6b9111fd53034a602c192a04e082ed  @107           7.9855   \n",
       "3  0xae5eacaf9c6b9111fd53034a602c192a04e082ed  @107           7.9874   \n",
       "4  0xae5eacaf9c6b9111fd53034a602c192a04e082ed  @107           7.9894   \n",
       "\n",
       "   Size Tokens  Size USD Side     Timestamp IST  Start Position Direction  \\\n",
       "0       986.87   7872.16  BUY  02-12-2024 22:50        0.000000       Buy   \n",
       "1        16.00    127.68  BUY  02-12-2024 22:50      986.524596       Buy   \n",
       "2       144.09   1150.63  BUY  02-12-2024 22:50     1002.518996       Buy   \n",
       "3       142.98   1142.04  BUY  02-12-2024 22:50     1146.558564       Buy   \n",
       "4         8.73     69.75  BUY  02-12-2024 22:50     1289.488521       Buy   \n",
       "\n",
       "   Closed PnL                                   Transaction Hash     Order ID  \\\n",
       "0         0.0  0xec09451986a1874e3a980418412fcd0201f500c95bac...  52017706630   \n",
       "1         0.0  0xec09451986a1874e3a980418412fcd0201f500c95bac...  52017706630   \n",
       "2         0.0  0xec09451986a1874e3a980418412fcd0201f500c95bac...  52017706630   \n",
       "3         0.0  0xec09451986a1874e3a980418412fcd0201f500c95bac...  52017706630   \n",
       "4         0.0  0xec09451986a1874e3a980418412fcd0201f500c95bac...  52017706630   \n",
       "\n",
       "   Crossed       Fee      Trade ID     Timestamp  \n",
       "0     True  0.345404  8.950000e+14  1.730000e+12  \n",
       "1     True  0.005600  4.430000e+14  1.730000e+12  \n",
       "2     True  0.050431  6.600000e+14  1.730000e+12  \n",
       "3     True  0.050043  1.080000e+15  1.730000e+12  \n",
       "4     True  0.003055  1.050000e+15  1.730000e+12  "
      ]
     },
     "metadata": {},
     "output_type": "display_data"
    }
   ],
   "source": [
    "# Load Fear & Greed Index\n",
    "fear_greed = pd.read_csv(\"data/fear_greed_index.csv\")\n",
    "print(\"Fear & Greed Index:\")\n",
    "display(fear_greed.head())\n",
    "\n",
    "# Load Historical Trader Data\n",
    "trader_data = pd.read_csv(\"data/historical_data.csv\")\n",
    "print(\"\\nHistorical Trader Data:\")\n",
    "display(trader_data.head())"
   ]
  },
  {
   "cell_type": "markdown",
   "id": "f40ab7d9-4415-409a-8fd5-c4a7d017dc03",
   "metadata": {},
   "source": [
    "## Displaying the actual column names"
   ]
  },
  {
   "cell_type": "code",
   "execution_count": 6,
   "id": "fdfedb3f-620b-418f-baed-b6ff1dc92090",
   "metadata": {},
   "outputs": [
    {
     "name": "stdout",
     "output_type": "stream",
     "text": [
      "Fear & Greed Index Columns:\n",
      "['timestamp', 'value', 'classification', 'date']\n",
      "\n",
      "Trader Data Columns:\n",
      "['Account', 'Coin', 'Execution Price', 'Size Tokens', 'Size USD', 'Side', 'Timestamp IST', 'Start Position', 'Direction', 'Closed PnL', 'Transaction Hash', 'Order ID', 'Crossed', 'Fee', 'Trade ID', 'Timestamp']\n"
     ]
    }
   ],
   "source": [
    "print(\"Fear & Greed Index Columns:\")\n",
    "print(fear_greed.columns.tolist())\n",
    "\n",
    "print(\"\\nTrader Data Columns:\")\n",
    "print(trader_data.columns.tolist())"
   ]
  },
  {
   "cell_type": "markdown",
   "id": "d644603d-6b81-4427-b951-3d62812818a9",
   "metadata": {},
   "source": [
    "## Cleaning & Preparing the Fear & Greed Index data"
   ]
  },
  {
   "cell_type": "code",
   "execution_count": 7,
   "id": "13b84d66-7591-4f22-9c28-4ac6b256f166",
   "metadata": {},
   "outputs": [
    {
     "name": "stdout",
     "output_type": "stream",
     "text": [
      "Nulls in Fear & Greed Index:\n",
      "date              0\n",
      "classification    0\n",
      "dtype: int64\n"
     ]
    },
    {
     "data": {
      "text/html": [
       "<div>\n",
       "<style scoped>\n",
       "    .dataframe tbody tr th:only-of-type {\n",
       "        vertical-align: middle;\n",
       "    }\n",
       "\n",
       "    .dataframe tbody tr th {\n",
       "        vertical-align: top;\n",
       "    }\n",
       "\n",
       "    .dataframe thead th {\n",
       "        text-align: right;\n",
       "    }\n",
       "</style>\n",
       "<table border=\"1\" class=\"dataframe\">\n",
       "  <thead>\n",
       "    <tr style=\"text-align: right;\">\n",
       "      <th></th>\n",
       "      <th>date</th>\n",
       "      <th>classification</th>\n",
       "    </tr>\n",
       "  </thead>\n",
       "  <tbody>\n",
       "    <tr>\n",
       "      <th>0</th>\n",
       "      <td>2018-02-01</td>\n",
       "      <td>Fear</td>\n",
       "    </tr>\n",
       "    <tr>\n",
       "      <th>1</th>\n",
       "      <td>2018-02-02</td>\n",
       "      <td>Extreme Fear</td>\n",
       "    </tr>\n",
       "    <tr>\n",
       "      <th>2</th>\n",
       "      <td>2018-02-03</td>\n",
       "      <td>Fear</td>\n",
       "    </tr>\n",
       "    <tr>\n",
       "      <th>3</th>\n",
       "      <td>2018-02-04</td>\n",
       "      <td>Extreme Fear</td>\n",
       "    </tr>\n",
       "    <tr>\n",
       "      <th>4</th>\n",
       "      <td>2018-02-05</td>\n",
       "      <td>Extreme Fear</td>\n",
       "    </tr>\n",
       "  </tbody>\n",
       "</table>\n",
       "</div>"
      ],
      "text/plain": [
       "        date classification\n",
       "0 2018-02-01           Fear\n",
       "1 2018-02-02   Extreme Fear\n",
       "2 2018-02-03           Fear\n",
       "3 2018-02-04   Extreme Fear\n",
       "4 2018-02-05   Extreme Fear"
      ]
     },
     "execution_count": 7,
     "metadata": {},
     "output_type": "execute_result"
    }
   ],
   "source": [
    "# Converting 'date' to datetime\n",
    "fear_greed['date'] = pd.to_datetime(fear_greed['date'])\n",
    "\n",
    "# Keeping only important columns: 'date' and 'classification'\n",
    "fear_greed_clean = fear_greed[['date', 'classification']].copy()\n",
    "\n",
    "# Checking for nulls\n",
    "print(\"Nulls in Fear & Greed Index:\")\n",
    "print(fear_greed_clean.isnull().sum())\n",
    "\n",
    "fear_greed_clean.head()"
   ]
  },
  {
   "cell_type": "markdown",
   "id": "afe1e960-b80f-4a9f-b8b2-79f46ef8be9d",
   "metadata": {},
   "source": [
    "## Cleaning & Preparing the Trader Data"
   ]
  },
  {
   "cell_type": "code",
   "execution_count": 8,
   "id": "1a8dab5d-4620-4b0e-8666-eadcaaa65ed9",
   "metadata": {},
   "outputs": [
    {
     "name": "stdout",
     "output_type": "stream",
     "text": [
      "Nulls in Trader Data:\n",
      "Timestamp IST    131999\n",
      "Closed PnL            0\n",
      "date             131999\n",
      "dtype: int64\n"
     ]
    },
    {
     "data": {
      "text/html": [
       "<div>\n",
       "<style scoped>\n",
       "    .dataframe tbody tr th:only-of-type {\n",
       "        vertical-align: middle;\n",
       "    }\n",
       "\n",
       "    .dataframe tbody tr th {\n",
       "        vertical-align: top;\n",
       "    }\n",
       "\n",
       "    .dataframe thead th {\n",
       "        text-align: right;\n",
       "    }\n",
       "</style>\n",
       "<table border=\"1\" class=\"dataframe\">\n",
       "  <thead>\n",
       "    <tr style=\"text-align: right;\">\n",
       "      <th></th>\n",
       "      <th>Account</th>\n",
       "      <th>Closed PnL</th>\n",
       "      <th>date</th>\n",
       "    </tr>\n",
       "  </thead>\n",
       "  <tbody>\n",
       "    <tr>\n",
       "      <th>0</th>\n",
       "      <td>0xae5eacaf9c6b9111fd53034a602c192a04e082ed</td>\n",
       "      <td>0.0</td>\n",
       "      <td>2024-02-12</td>\n",
       "    </tr>\n",
       "    <tr>\n",
       "      <th>1</th>\n",
       "      <td>0xae5eacaf9c6b9111fd53034a602c192a04e082ed</td>\n",
       "      <td>0.0</td>\n",
       "      <td>2024-02-12</td>\n",
       "    </tr>\n",
       "    <tr>\n",
       "      <th>2</th>\n",
       "      <td>0xae5eacaf9c6b9111fd53034a602c192a04e082ed</td>\n",
       "      <td>0.0</td>\n",
       "      <td>2024-02-12</td>\n",
       "    </tr>\n",
       "    <tr>\n",
       "      <th>3</th>\n",
       "      <td>0xae5eacaf9c6b9111fd53034a602c192a04e082ed</td>\n",
       "      <td>0.0</td>\n",
       "      <td>2024-02-12</td>\n",
       "    </tr>\n",
       "    <tr>\n",
       "      <th>4</th>\n",
       "      <td>0xae5eacaf9c6b9111fd53034a602c192a04e082ed</td>\n",
       "      <td>0.0</td>\n",
       "      <td>2024-02-12</td>\n",
       "    </tr>\n",
       "  </tbody>\n",
       "</table>\n",
       "</div>"
      ],
      "text/plain": [
       "                                      Account  Closed PnL       date\n",
       "0  0xae5eacaf9c6b9111fd53034a602c192a04e082ed         0.0 2024-02-12\n",
       "1  0xae5eacaf9c6b9111fd53034a602c192a04e082ed         0.0 2024-02-12\n",
       "2  0xae5eacaf9c6b9111fd53034a602c192a04e082ed         0.0 2024-02-12\n",
       "3  0xae5eacaf9c6b9111fd53034a602c192a04e082ed         0.0 2024-02-12\n",
       "4  0xae5eacaf9c6b9111fd53034a602c192a04e082ed         0.0 2024-02-12"
      ]
     },
     "execution_count": 8,
     "metadata": {},
     "output_type": "execute_result"
    }
   ],
   "source": [
    "# Converting 'Timestamp IST' to datetime\n",
    "trader_data['Timestamp IST'] = pd.to_datetime(trader_data['Timestamp IST'], errors='coerce')\n",
    "\n",
    "# Extracting only the date part for matching with Fear & Greed data\n",
    "trader_data['date'] = trader_data['Timestamp IST'].dt.date\n",
    "trader_data['date'] = pd.to_datetime(trader_data['date'])  # Ensure it's datetime type\n",
    "\n",
    "# Checking for nulls in important columns\n",
    "print(\"Nulls in Trader Data:\")\n",
    "print(trader_data[['Timestamp IST', 'Closed PnL', 'date']].isnull().sum())\n",
    "\n",
    "trader_data[['Account', 'Closed PnL', 'date']].head()"
   ]
  },
  {
   "cell_type": "markdown",
   "id": "75fcd681-c152-4066-aa3c-9b7d2d10d009",
   "metadata": {},
   "source": [
    "## Dropping Null Timestamps"
   ]
  },
  {
   "cell_type": "code",
   "execution_count": 9,
   "id": "f326ccf2-be81-4cd3-bb7d-9da35aa0ead6",
   "metadata": {},
   "outputs": [
    {
     "name": "stdout",
     "output_type": "stream",
     "text": [
      "Original rows: 211224\n",
      "After cleaning: 79225\n"
     ]
    }
   ],
   "source": [
    "# Dropping rows with missing dates\n",
    "cleaned_trader_data = trader_data.dropna(subset=['date'])\n",
    "\n",
    "# Confirming the cleaned size\n",
    "print(f\"Original rows: {len(trader_data)}\")\n",
    "print(f\"After cleaning: {len(cleaned_trader_data)}\")"
   ]
  },
  {
   "cell_type": "markdown",
   "id": "651f8ce1-a681-4dcd-bf4c-0773faa05de2",
   "metadata": {},
   "source": [
    "## Merging Trader Data with Fear & Greed Index"
   ]
  },
  {
   "cell_type": "code",
   "execution_count": 10,
   "id": "bbe81aed-3f4d-4740-9410-073c13a5fbae",
   "metadata": {},
   "outputs": [
    {
     "name": "stdout",
     "output_type": "stream",
     "text": [
      "Merged Data Sample:\n"
     ]
    },
    {
     "data": {
      "text/html": [
       "<div>\n",
       "<style scoped>\n",
       "    .dataframe tbody tr th:only-of-type {\n",
       "        vertical-align: middle;\n",
       "    }\n",
       "\n",
       "    .dataframe tbody tr th {\n",
       "        vertical-align: top;\n",
       "    }\n",
       "\n",
       "    .dataframe thead th {\n",
       "        text-align: right;\n",
       "    }\n",
       "</style>\n",
       "<table border=\"1\" class=\"dataframe\">\n",
       "  <thead>\n",
       "    <tr style=\"text-align: right;\">\n",
       "      <th></th>\n",
       "      <th>Account</th>\n",
       "      <th>Closed PnL</th>\n",
       "      <th>date</th>\n",
       "      <th>classification</th>\n",
       "    </tr>\n",
       "  </thead>\n",
       "  <tbody>\n",
       "    <tr>\n",
       "      <th>0</th>\n",
       "      <td>0xae5eacaf9c6b9111fd53034a602c192a04e082ed</td>\n",
       "      <td>0.0</td>\n",
       "      <td>2024-02-12</td>\n",
       "      <td>Greed</td>\n",
       "    </tr>\n",
       "    <tr>\n",
       "      <th>1</th>\n",
       "      <td>0xae5eacaf9c6b9111fd53034a602c192a04e082ed</td>\n",
       "      <td>0.0</td>\n",
       "      <td>2024-02-12</td>\n",
       "      <td>Greed</td>\n",
       "    </tr>\n",
       "    <tr>\n",
       "      <th>2</th>\n",
       "      <td>0xae5eacaf9c6b9111fd53034a602c192a04e082ed</td>\n",
       "      <td>0.0</td>\n",
       "      <td>2024-02-12</td>\n",
       "      <td>Greed</td>\n",
       "    </tr>\n",
       "    <tr>\n",
       "      <th>3</th>\n",
       "      <td>0xae5eacaf9c6b9111fd53034a602c192a04e082ed</td>\n",
       "      <td>0.0</td>\n",
       "      <td>2024-02-12</td>\n",
       "      <td>Greed</td>\n",
       "    </tr>\n",
       "    <tr>\n",
       "      <th>4</th>\n",
       "      <td>0xae5eacaf9c6b9111fd53034a602c192a04e082ed</td>\n",
       "      <td>0.0</td>\n",
       "      <td>2024-02-12</td>\n",
       "      <td>Greed</td>\n",
       "    </tr>\n",
       "  </tbody>\n",
       "</table>\n",
       "</div>"
      ],
      "text/plain": [
       "                                      Account  Closed PnL       date  \\\n",
       "0  0xae5eacaf9c6b9111fd53034a602c192a04e082ed         0.0 2024-02-12   \n",
       "1  0xae5eacaf9c6b9111fd53034a602c192a04e082ed         0.0 2024-02-12   \n",
       "2  0xae5eacaf9c6b9111fd53034a602c192a04e082ed         0.0 2024-02-12   \n",
       "3  0xae5eacaf9c6b9111fd53034a602c192a04e082ed         0.0 2024-02-12   \n",
       "4  0xae5eacaf9c6b9111fd53034a602c192a04e082ed         0.0 2024-02-12   \n",
       "\n",
       "  classification  \n",
       "0          Greed  \n",
       "1          Greed  \n",
       "2          Greed  \n",
       "3          Greed  \n",
       "4          Greed  "
      ]
     },
     "execution_count": 10,
     "metadata": {},
     "output_type": "execute_result"
    }
   ],
   "source": [
    "# Merging cleaned trader data with Fear & Greed Index on 'date'\n",
    "merged_data = pd.merge(cleaned_trader_data, fear_greed, on='date', how='left')\n",
    "\n",
    "# Checking for a successful merge\n",
    "print(\"Merged Data Sample:\")\n",
    "merged_data[['Account', 'Closed PnL', 'date', 'classification']].head()"
   ]
  },
  {
   "cell_type": "markdown",
   "id": "d7020d9b-4705-4053-8e05-a776725f3f12",
   "metadata": {},
   "source": [
    "## Analyzing Trader Performance vs. Market Sentiment"
   ]
  },
  {
   "cell_type": "code",
   "execution_count": 11,
   "id": "10ba29c7-f70c-45b7-9b4c-1dd88bca3ac3",
   "metadata": {},
   "outputs": [
    {
     "name": "stdout",
     "output_type": "stream",
     "text": [
      "Average Closed PnL per Sentiment:\n"
     ]
    },
    {
     "data": {
      "text/plain": [
       "classification\n",
       "Extreme Greed    205.816345\n",
       "Fear             128.287950\n",
       "Greed             53.988003\n",
       "Neutral           27.088803\n",
       "Extreme Fear       1.891632\n",
       "Name: Closed PnL, dtype: float64"
      ]
     },
     "metadata": {},
     "output_type": "display_data"
    }
   ],
   "source": [
    "# Converting Closed PnL to numeric in case it's not\n",
    "merged_data['Closed PnL'] = pd.to_numeric(merged_data['Closed PnL'], errors='coerce')\n",
    "\n",
    "# Grouping by sentiment and calculating average PnL\n",
    "avg_pnl_by_sentiment = merged_data.groupby('classification')['Closed PnL'].mean().sort_values(ascending=False)\n",
    "\n",
    "print(\"Average Closed PnL per Sentiment:\")\n",
    "display(avg_pnl_by_sentiment)"
   ]
  },
  {
   "cell_type": "markdown",
   "id": "11bb197f-b0cf-4603-ab74-99325ed62d8e",
   "metadata": {},
   "source": [
    "## Visualizing Trader Profit vs Sentiment"
   ]
  },
  {
   "cell_type": "code",
   "execution_count": 12,
   "id": "fc729aa9-17b6-48ac-93a7-4ffe5400904c",
   "metadata": {},
   "outputs": [
    {
     "name": "stderr",
     "output_type": "stream",
     "text": [
      "C:\\Users\\KIIT\\AppData\\Local\\Temp\\ipykernel_31668\\3804773638.py:6: FutureWarning: \n",
      "\n",
      "Passing `palette` without assigning `hue` is deprecated and will be removed in v0.14.0. Assign the `x` variable to `hue` and set `legend=False` for the same effect.\n",
      "\n",
      "  sns.barplot(x=avg_pnl_by_sentiment.index, y=avg_pnl_by_sentiment.values, palette='coolwarm')\n"
     ]
    },
    {
     "data": {
      "image/png": "[encoded data removed]",
      "text/plain": [
       "<Figure size 800x500 with 1 Axes>"
      ]
     },
     "metadata": {},
     "output_type": "display_data"
    }
   ],
   "source": [
    "import matplotlib.pyplot as plt\n",
    "import seaborn as sns\n",
    "\n",
    "# Plot\n",
    "plt.figure(figsize=(8, 5))\n",
    "sns.barplot(x=avg_pnl_by_sentiment.index, y=avg_pnl_by_sentiment.values, palette='coolwarm')\n",
    "plt.title(\"Average Trader PnL by Market Sentiment\")\n",
    "plt.ylabel(\"Average Closed PnL\")\n",
    "plt.xlabel(\"Market Sentiment Classification\")\n",
    "plt.xticks(rotation=45)\n",
    "plt.grid(axis='y')\n",
    "plt.tight_layout()\n",
    "plt.show()"
   ]
  },
  {
   "cell_type": "markdown",
   "id": "6000aafe-e6a5-4b05-8e6d-7530a4bc2b68",
   "metadata": {},
   "source": [
    "## Creating 'merged' DataFrame"
   ]
  },
  {
   "cell_type": "code",
   "execution_count": 14,
   "id": "bc7a94e9-16b4-4c96-8029-2abf09e1f046",
   "metadata": {},
   "outputs": [],
   "source": [
    "# Converting 'date' and 'Timestamp IST' to datetime\n",
    "fear_greed['date'] = pd.to_datetime(fear_greed['date'])\n",
    "trader_data['Timestamp IST'] = pd.to_datetime(trader_data['Timestamp IST'])\n",
    "\n",
    "# Extracting date only from trader_data timestamp\n",
    "trader_data['date'] = trader_data['Timestamp IST'].dt.date\n",
    "fear_greed['date'] = fear_greed['date'].dt.date\n",
    "\n",
    "# Merging both DataFrames on 'date'\n",
    "merged = pd.merge(trader_data, fear_greed[['date', 'classification']], on='date', how='inner')"
   ]
  },
  {
   "cell_type": "markdown",
   "id": "cbc0b9c6-2454-4348-820d-46315ace1c3e",
   "metadata": {},
   "source": [
    "## Saving the 'merged' .csv file"
   ]
  },
  {
   "cell_type": "code",
   "execution_count": 15,
   "id": "cb6506cf-4587-4364-93b9-657edcb1c0d6",
   "metadata": {},
   "outputs": [],
   "source": [
    "merged.to_csv(\"data/merged_sentiment_trades.csv\", index=False)"
   ]
  },
  {
   "cell_type": "markdown",
   "id": "9676b949-59d1-42ce-bf1c-8141f2c27c61",
   "metadata": {},
   "source": [
    "## Analyzing Performance Based on Sentiment"
   ]
  },
  {
   "cell_type": "code",
   "execution_count": 16,
   "id": "9b08a0e3-7004-49e3-a8aa-b2f0c435e6d0",
   "metadata": {},
   "outputs": [
    {
     "name": "stdout",
     "output_type": "stream",
     "text": [
      "Average Closed PnL by Sentiment:\n"
     ]
    },
    {
     "data": {
      "text/plain": [
       "classification\n",
       "Extreme Greed    205.816345\n",
       "Fear             128.287950\n",
       "Greed             53.988003\n",
       "Neutral           27.088803\n",
       "Extreme Fear       1.891632\n",
       "Name: Closed PnL, dtype: float64"
      ]
     },
     "metadata": {},
     "output_type": "display_data"
    },
    {
     "data": {
      "image/png": "[encoded data removed]",
      "text/plain": [
       "<Figure size 1000x500 with 1 Axes>"
      ]
     },
     "metadata": {},
     "output_type": "display_data"
    }
   ],
   "source": [
    "# Average Closed PnL per Sentiment Category\n",
    "avg_pnl_by_sentiment = merged_data.groupby('classification')['Closed PnL'].mean().sort_values(ascending=False)\n",
    "\n",
    "print(\"Average Closed PnL by Sentiment:\")\n",
    "display(avg_pnl_by_sentiment)\n",
    "\n",
    "# Plotting it\n",
    "avg_pnl_by_sentiment.plot(kind='bar', color='skyblue', title='Average Closed PnL by Market Sentiment', ylabel='Average PnL', figsize=(10, 5))\n",
    "plt.xticks(rotation=45)\n",
    "plt.grid(axis='y')\n",
    "plt.tight_layout()\n",
    "plt.show()"
   ]
  },
  {
   "cell_type": "markdown",
   "id": "bbc3b421-f696-42ae-972b-4865aaa5bd18",
   "metadata": {},
   "source": [
    "##  Correlation Between Sentiment Score and PnL"
   ]
  },
  {
   "cell_type": "code",
   "execution_count": 17,
   "id": "4ead0b17-df69-4eb5-8897-01d27688dee7",
   "metadata": {},
   "outputs": [
    {
     "name": "stdout",
     "output_type": "stream",
     "text": [
      "Correlation between Fear & Greed Value and Closed PnL: 0.011\n"
     ]
    }
   ],
   "source": [
    "correlation = merged_data['value'].corr(merged_data['Closed PnL'])\n",
    "print(f\"Correlation between Fear & Greed Value and Closed PnL: {correlation:.3f}\")"
   ]
  },
  {
   "cell_type": "markdown",
   "id": "47dcc077-ed24-4ade-8979-a1d24c757258",
   "metadata": {},
   "source": [
    "## Plotting the Scatterplot of Sentiment Value vs. PnL"
   ]
  },
  {
   "cell_type": "code",
   "execution_count": 18,
   "id": "2464e231-afaa-4a84-85d4-dd067063cfb1",
   "metadata": {},
   "outputs": [
    {
     "data": {
      "image/png": "[encoded data removed]",
      "text/plain": [
       "<Figure size 800x500 with 1 Axes>"
      ]
     },
     "metadata": {},
     "output_type": "display_data"
    }
   ],
   "source": [
    "plt.figure(figsize=(8, 5))\n",
    "plt.scatter(merged_data['value'], merged_data['Closed PnL'], alpha=0.4, c='purple')\n",
    "plt.title('Fear & Greed Value vs. Trader PnL')\n",
    "plt.xlabel('Fear & Greed Index Value (0 = Extreme Fear, 100 = Extreme Greed)')\n",
    "plt.ylabel('Closed PnL')\n",
    "plt.grid(True)\n",
    "plt.tight_layout()\n",
    "plt.show()"
   ]
  },
  {
   "cell_type": "code",
   "execution_count": null,
   "id": "3ee2966d-2afd-4bfb-8b89-50eeba60420d",
   "metadata": {},
   "outputs": [],
   "source": []
  }
 ],
 "metadata": {
  "kernelspec": {
   "display_name": "Python 3 (ipykernel)",
   "language": "python",
   "name": "python3"
  },
  "language_info": {
   "codemirror_mode": {
    "name": "ipython",
    "version": 3
   },
   "file_extension": ".py",
   "mimetype": "text/x-python",
   "name": "python",
   "nbconvert_exporter": "python",
   "pygments_lexer": "ipython3",
   "version": "3.13.1"
  }
 },
 "nbformat": 4,
 "nbformat_minor": 5
}
